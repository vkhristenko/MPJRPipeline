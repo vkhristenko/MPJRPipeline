{
 "cells": [
  {
   "cell_type": "code",
   "execution_count": 1,
   "metadata": {},
   "outputs": [],
   "source": [
    "images = sqlContext.read.parquet(\"file:/Users/vk/data/ML_MP_JR/parquet/images/*.parquet\")"
   ]
  },
  {
   "cell_type": "code",
   "execution_count": 2,
   "metadata": {},
   "outputs": [
    {
     "name": "stdout",
     "output_type": "stream",
     "text": [
      "root\n",
      " |-- image: vector (nullable = true)\n",
      " |-- label: long (nullable = true)\n",
      "\n"
     ]
    }
   ],
   "source": [
    "images.printSchema()"
   ]
  },
  {
   "cell_type": "code",
   "execution_count": 3,
   "metadata": {},
   "outputs": [
    {
     "name": "stdout",
     "output_type": "stream",
     "text": [
      "+--------------------+-----+\n",
      "|               image|label|\n",
      "+--------------------+-----+\n",
      "|[1.0,1.0,1.0,1.0,...|    1|\n",
      "|[1.0,1.0,1.0,1.0,...|    1|\n",
      "|[1.0,1.0,1.0,1.0,...|    1|\n",
      "|[1.0,1.0,1.0,1.0,...|    1|\n",
      "|[1.0,1.0,0.489999...|    1|\n",
      "|[1.0,1.0,1.0,1.0,...|    1|\n",
      "|[1.0,1.0,1.0,1.0,...|    1|\n",
      "|[1.0,1.0,0.699999...|    1|\n",
      "|[1.0,1.0,1.0,1.0,...|    1|\n",
      "|[1.0,1.0,1.0,1.0,...|    1|\n",
      "|[1.0,1.0,1.0,1.0,...|    1|\n",
      "|[1.0,1.0,1.0,1.0,...|    1|\n",
      "|[1.0,1.0,1.0,1.0,...|    1|\n",
      "|[1.0,1.0,1.0,1.0,...|    1|\n",
      "|[1.0,1.0,1.0,1.0,...|    1|\n",
      "|[1.0,1.0,0.699999...|    1|\n",
      "|[1.0,1.0,1.0,1.0,...|    1|\n",
      "|[1.0,1.0,1.0,1.0,...|    1|\n",
      "|[1.0,1.0,1.0,1.0,...|    1|\n",
      "|[1.0,1.0,1.0,1.0,...|    1|\n",
      "+--------------------+-----+\n",
      "only showing top 20 rows\n",
      "\n"
     ]
    }
   ],
   "source": [
    "images.show()"
   ]
  },
  {
   "cell_type": "code",
   "execution_count": 5,
   "metadata": {},
   "outputs": [],
   "source": [
    "from pyspark.sql.functions import rand \n",
    "random_images = images.orderBy(rand())"
   ]
  },
  {
   "cell_type": "code",
   "execution_count": 6,
   "metadata": {},
   "outputs": [
    {
     "name": "stderr",
     "output_type": "stream",
     "text": [
      "Using TensorFlow backend.\n"
     ]
    }
   ],
   "source": [
    "from densenet import DenseNet"
   ]
  },
  {
   "cell_type": "code",
   "execution_count": 7,
   "metadata": {},
   "outputs": [
    {
     "name": "stdout",
     "output_type": "stream",
     "text": [
      "tf\n",
      "tf\n"
     ]
    }
   ],
   "source": [
    "model = DenseNet(nb_classes = 3, img_dim = (500, 314, 3), depth = 10, \n",
    "                 nb_dense_block = 2, growth_rate = 3, \n",
    "                 dropout_rate= 0.5, nb_filter = 12)"
   ]
  },
  {
   "cell_type": "code",
   "execution_count": 8,
   "metadata": {},
   "outputs": [
    {
     "name": "stdout",
     "output_type": "stream",
     "text": [
      "__________________________________________________________________________________________________\n",
      "Layer (type)                    Output Shape         Param #     Connected to                     \n",
      "==================================================================================================\n",
      "input_1 (InputLayer)            (None, 500, 314, 3)  0                                            \n",
      "__________________________________________________________________________________________________\n",
      "initial_conv2D (Conv2D)         (None, 12, 314, 3)   54000       input_1[0][0]                    \n",
      "__________________________________________________________________________________________________\n",
      "batch_normalization_1 (BatchNor (None, 12, 314, 3)   48          initial_conv2D[0][0]             \n",
      "__________________________________________________________________________________________________\n",
      "activation_1 (Activation)       (None, 12, 314, 3)   0           batch_normalization_1[0][0]      \n",
      "__________________________________________________________________________________________________\n",
      "conv2d_1 (Conv2D)               (None, 3, 314, 3)    324         activation_1[0][0]               \n",
      "__________________________________________________________________________________________________\n",
      "dropout_1 (Dropout)             (None, 3, 314, 3)    0           conv2d_1[0][0]                   \n",
      "__________________________________________________________________________________________________\n",
      "concatenate_1 (Concatenate)     (None, 15, 314, 3)   0           initial_conv2D[0][0]             \n",
      "                                                                 dropout_1[0][0]                  \n",
      "__________________________________________________________________________________________________\n",
      "batch_normalization_2 (BatchNor (None, 15, 314, 3)   60          concatenate_1[0][0]              \n",
      "__________________________________________________________________________________________________\n",
      "activation_2 (Activation)       (None, 15, 314, 3)   0           batch_normalization_2[0][0]      \n",
      "__________________________________________________________________________________________________\n",
      "conv2d_2 (Conv2D)               (None, 3, 314, 3)    405         activation_2[0][0]               \n",
      "__________________________________________________________________________________________________\n",
      "dropout_2 (Dropout)             (None, 3, 314, 3)    0           conv2d_2[0][0]                   \n",
      "__________________________________________________________________________________________________\n",
      "concatenate_2 (Concatenate)     (None, 18, 314, 3)   0           initial_conv2D[0][0]             \n",
      "                                                                 dropout_1[0][0]                  \n",
      "                                                                 dropout_2[0][0]                  \n",
      "__________________________________________________________________________________________________\n",
      "batch_normalization_3 (BatchNor (None, 18, 314, 3)   72          concatenate_2[0][0]              \n",
      "__________________________________________________________________________________________________\n",
      "activation_3 (Activation)       (None, 18, 314, 3)   0           batch_normalization_3[0][0]      \n",
      "__________________________________________________________________________________________________\n",
      "conv2d_3 (Conv2D)               (None, 18, 314, 3)   324         activation_3[0][0]               \n",
      "__________________________________________________________________________________________________\n",
      "dropout_3 (Dropout)             (None, 18, 314, 3)   0           conv2d_3[0][0]                   \n",
      "__________________________________________________________________________________________________\n",
      "average_pooling2d_1 (AveragePoo (None, 18, 157, 1)   0           dropout_3[0][0]                  \n",
      "__________________________________________________________________________________________________\n",
      "batch_normalization_4 (BatchNor (None, 18, 157, 1)   72          average_pooling2d_1[0][0]        \n",
      "__________________________________________________________________________________________________\n",
      "activation_4 (Activation)       (None, 18, 157, 1)   0           batch_normalization_4[0][0]      \n",
      "__________________________________________________________________________________________________\n",
      "conv2d_4 (Conv2D)               (None, 3, 157, 1)    486         activation_4[0][0]               \n",
      "__________________________________________________________________________________________________\n",
      "dropout_4 (Dropout)             (None, 3, 157, 1)    0           conv2d_4[0][0]                   \n",
      "__________________________________________________________________________________________________\n",
      "concatenate_3 (Concatenate)     (None, 21, 157, 1)   0           average_pooling2d_1[0][0]        \n",
      "                                                                 dropout_4[0][0]                  \n",
      "__________________________________________________________________________________________________\n",
      "batch_normalization_5 (BatchNor (None, 21, 157, 1)   84          concatenate_3[0][0]              \n",
      "__________________________________________________________________________________________________\n",
      "activation_5 (Activation)       (None, 21, 157, 1)   0           batch_normalization_5[0][0]      \n",
      "__________________________________________________________________________________________________\n",
      "conv2d_5 (Conv2D)               (None, 3, 157, 1)    567         activation_5[0][0]               \n",
      "__________________________________________________________________________________________________\n",
      "dropout_5 (Dropout)             (None, 3, 157, 1)    0           conv2d_5[0][0]                   \n",
      "__________________________________________________________________________________________________\n",
      "concatenate_4 (Concatenate)     (None, 24, 157, 1)   0           average_pooling2d_1[0][0]        \n",
      "                                                                 dropout_4[0][0]                  \n",
      "                                                                 dropout_5[0][0]                  \n",
      "__________________________________________________________________________________________________\n",
      "batch_normalization_6 (BatchNor (None, 24, 157, 1)   96          concatenate_4[0][0]              \n",
      "__________________________________________________________________________________________________\n",
      "activation_6 (Activation)       (None, 24, 157, 1)   0           batch_normalization_6[0][0]      \n",
      "__________________________________________________________________________________________________\n",
      "global_average_pooling2d_1 (Glo (None, 1)            0           activation_6[0][0]               \n",
      "__________________________________________________________________________________________________\n",
      "dense_1 (Dense)                 (None, 3)            6           global_average_pooling2d_1[0][0] \n",
      "==================================================================================================\n",
      "Total params: 56,544\n",
      "Trainable params: 56,328\n",
      "Non-trainable params: 216\n",
      "__________________________________________________________________________________________________\n"
     ]
    }
   ],
   "source": [
    "model.summary()"
   ]
  },
  {
   "cell_type": "code",
   "execution_count": 9,
   "metadata": {},
   "outputs": [],
   "source": [
    "images_labels = random_images"
   ]
  },
  {
   "cell_type": "code",
   "execution_count": 10,
   "metadata": {},
   "outputs": [],
   "source": [
    "from distkeras.trainers import *\n",
    "from distkeras.predictors import *\n",
    "from distkeras.transformers import *\n",
    "from distkeras.evaluators import *\n",
    "from distkeras.utils import *"
   ]
  },
  {
   "cell_type": "code",
   "execution_count": 11,
   "metadata": {},
   "outputs": [],
   "source": [
    "transformer = ReshapeTransformer(\"image\", \"image_matrix\", (500, 314, 3))"
   ]
  },
  {
   "cell_type": "code",
   "execution_count": 12,
   "metadata": {},
   "outputs": [],
   "source": [
    "new_images = transformer.transform(images)"
   ]
  },
  {
   "cell_type": "code",
   "execution_count": 13,
   "metadata": {},
   "outputs": [
    {
     "name": "stdout",
     "output_type": "stream",
     "text": [
      "root\n",
      " |-- image: vector (nullable = true)\n",
      " |-- label: long (nullable = true)\n",
      " |-- image_matrix: array (nullable = true)\n",
      " |    |-- element: array (containsNull = true)\n",
      " |    |    |-- element: array (containsNull = true)\n",
      " |    |    |    |-- element: double (containsNull = true)\n",
      "\n"
     ]
    }
   ],
   "source": [
    "new_images.printSchema()"
   ]
  },
  {
   "cell_type": "code",
   "execution_count": 14,
   "metadata": {},
   "outputs": [],
   "source": [
    "(training_set, test_set) = new_images.randomSplit([0.6, 0.4])"
   ]
  },
  {
   "cell_type": "code",
   "execution_count": null,
   "metadata": {},
   "outputs": [],
   "source": []
  },
  {
   "cell_type": "code",
   "execution_count": null,
   "metadata": {},
   "outputs": [],
   "source": []
  },
  {
   "cell_type": "code",
   "execution_count": 15,
   "metadata": {},
   "outputs": [],
   "source": [
    "optimizer_mlp = 'adam'\n",
    "loss_mlp = 'categorical_crossentropy'"
   ]
  },
  {
   "cell_type": "code",
   "execution_count": 18,
   "metadata": {},
   "outputs": [],
   "source": [
    "trainer = DOWNPOUR(keras_model=model, worker_optimizer=optimizer_mlp, loss=loss_mlp, \n",
    "                   num_workers=1, batch_size=4, communication_window=5, num_epoch=1,\n",
    "                   features_col=\"image_matrix\", label_col = \"label\")\n",
    "trainer.set_parallelism_factor(1)"
   ]
  },
  {
   "cell_type": "code",
   "execution_count": null,
   "metadata": {},
   "outputs": [],
   "source": [
    "trained_model = trainer.train(training_set)"
   ]
  },
  {
   "cell_type": "code",
   "execution_count": null,
   "metadata": {},
   "outputs": [],
   "source": [
    "trainer.get_training_time()"
   ]
  },
  {
   "cell_type": "code",
   "execution_count": null,
   "metadata": {},
   "outputs": [],
   "source": [
    "trainer.parameter_server.num_updates"
   ]
  },
  {
   "cell_type": "code",
   "execution_count": 23,
   "metadata": {},
   "outputs": [
    {
     "data": {
      "text/plain": [
       "[<tf.Variable 'initial_conv2D_1/kernel:0' shape=(3, 3, 3, 12) dtype=float32_ref>,\n",
       " <tf.Variable 'batch_normalization_1_1/gamma:0' shape=(500,) dtype=float32_ref>,\n",
       " <tf.Variable 'batch_normalization_1_1/beta:0' shape=(500,) dtype=float32_ref>,\n",
       " <tf.Variable 'conv2d_1_1/kernel:0' shape=(3, 3, 12, 3) dtype=float32_ref>,\n",
       " <tf.Variable 'batch_normalization_2_1/gamma:0' shape=(500,) dtype=float32_ref>,\n",
       " <tf.Variable 'batch_normalization_2_1/beta:0' shape=(500,) dtype=float32_ref>,\n",
       " <tf.Variable 'conv2d_2_1/kernel:0' shape=(3, 3, 15, 3) dtype=float32_ref>,\n",
       " <tf.Variable 'batch_normalization_3_1/gamma:0' shape=(500,) dtype=float32_ref>,\n",
       " <tf.Variable 'batch_normalization_3_1/beta:0' shape=(500,) dtype=float32_ref>,\n",
       " <tf.Variable 'conv2d_3_1/kernel:0' shape=(1, 1, 18, 18) dtype=float32_ref>,\n",
       " <tf.Variable 'batch_normalization_4_1/gamma:0' shape=(250,) dtype=float32_ref>,\n",
       " <tf.Variable 'batch_normalization_4_1/beta:0' shape=(250,) dtype=float32_ref>,\n",
       " <tf.Variable 'conv2d_4_1/kernel:0' shape=(3, 3, 18, 3) dtype=float32_ref>,\n",
       " <tf.Variable 'batch_normalization_5_1/gamma:0' shape=(250,) dtype=float32_ref>,\n",
       " <tf.Variable 'batch_normalization_5_1/beta:0' shape=(250,) dtype=float32_ref>,\n",
       " <tf.Variable 'conv2d_5_1/kernel:0' shape=(3, 3, 21, 3) dtype=float32_ref>,\n",
       " <tf.Variable 'batch_normalization_6_1/gamma:0' shape=(250,) dtype=float32_ref>,\n",
       " <tf.Variable 'batch_normalization_6_1/beta:0' shape=(250,) dtype=float32_ref>,\n",
       " <tf.Variable 'dense_1_1/kernel:0' shape=(24, 3) dtype=float32_ref>,\n",
       " <tf.Variable 'dense_1_1/bias:0' shape=(3,) dtype=float32_ref>,\n",
       " <tf.Variable 'batch_normalization_1_1/moving_mean:0' shape=(500,) dtype=float32_ref>,\n",
       " <tf.Variable 'batch_normalization_1_1/moving_variance:0' shape=(500,) dtype=float32_ref>,\n",
       " <tf.Variable 'batch_normalization_2_1/moving_mean:0' shape=(500,) dtype=float32_ref>,\n",
       " <tf.Variable 'batch_normalization_2_1/moving_variance:0' shape=(500,) dtype=float32_ref>,\n",
       " <tf.Variable 'batch_normalization_3_1/moving_mean:0' shape=(500,) dtype=float32_ref>,\n",
       " <tf.Variable 'batch_normalization_3_1/moving_variance:0' shape=(500,) dtype=float32_ref>,\n",
       " <tf.Variable 'batch_normalization_4_1/moving_mean:0' shape=(250,) dtype=float32_ref>,\n",
       " <tf.Variable 'batch_normalization_4_1/moving_variance:0' shape=(250,) dtype=float32_ref>,\n",
       " <tf.Variable 'batch_normalization_5_1/moving_mean:0' shape=(250,) dtype=float32_ref>,\n",
       " <tf.Variable 'batch_normalization_5_1/moving_variance:0' shape=(250,) dtype=float32_ref>,\n",
       " <tf.Variable 'batch_normalization_6_1/moving_mean:0' shape=(250,) dtype=float32_ref>,\n",
       " <tf.Variable 'batch_normalization_6_1/moving_variance:0' shape=(250,) dtype=float32_ref>]"
      ]
     },
     "execution_count": 23,
     "metadata": {},
     "output_type": "execute_result"
    }
   ],
   "source": [
    "trained_model.weights"
   ]
  },
  {
   "cell_type": "code",
   "execution_count": null,
   "metadata": {},
   "outputs": [],
   "source": []
  }
 ],
 "metadata": {
  "kernelspec": {
   "display_name": "Python 2",
   "language": "python",
   "name": "python2"
  },
  "language_info": {
   "codemirror_mode": {
    "name": "ipython",
    "version": 2
   },
   "file_extension": ".py",
   "mimetype": "text/x-python",
   "name": "python",
   "nbconvert_exporter": "python",
   "pygments_lexer": "ipython2",
   "version": "2.7.14"
  }
 },
 "nbformat": 4,
 "nbformat_minor": 2
}
