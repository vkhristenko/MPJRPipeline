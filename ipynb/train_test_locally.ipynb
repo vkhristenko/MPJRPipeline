{
 "cells": [
  {
   "cell_type": "code",
   "execution_count": 1,
   "metadata": {},
   "outputs": [],
   "source": [
    "images = sqlContext.read.parquet(\"file:/Users/vk/data/ML_MP_JR/parquet/images/*.parquet\")"
   ]
  },
  {
   "cell_type": "code",
   "execution_count": 2,
   "metadata": {},
   "outputs": [
    {
     "name": "stdout",
     "output_type": "stream",
     "text": [
      "root\n",
      " |-- image: vector (nullable = true)\n",
      "\n"
     ]
    }
   ],
   "source": [
    "images.printSchema()"
   ]
  },
  {
   "cell_type": "code",
   "execution_count": 3,
   "metadata": {},
   "outputs": [
    {
     "name": "stderr",
     "output_type": "stream",
     "text": [
      "Using TensorFlow backend.\n"
     ]
    }
   ],
   "source": [
    "from densenet import DenseNet"
   ]
  },
  {
   "cell_type": "code",
   "execution_count": 4,
   "metadata": {},
   "outputs": [
    {
     "name": "stderr",
     "output_type": "stream",
     "text": [
      "densenet.py:167: UserWarning: Update your `Conv2D` call to the Keras 2 API: `Conv2D(12, (3, 3), kernel_initializer=\"he_uniform\", name=\"initial_conv2D\", padding=\"same\", kernel_regularizer=<keras.reg..., use_bias=False)`\n",
      "  W_regularizer=l2(weight_decay))(model_input)\n",
      "densenet.py:27: UserWarning: Update your `BatchNormalization` call to the Keras 2 API: `BatchNormalization(gamma_regularizer=<keras.reg..., beta_regularizer=<keras.reg..., axis=1)`\n",
      "  beta_regularizer=l2(weight_decay))(x)\n",
      "densenet.py:33: UserWarning: Update your `Conv2D` call to the Keras 2 API: `Conv2D(3, (3, 3), kernel_initializer=\"he_uniform\", padding=\"same\", kernel_regularizer=<keras.reg..., use_bias=False)`\n",
      "  W_regularizer=l2(weight_decay))(x)\n",
      "densenet.py:97: UserWarning: The `merge` function is deprecated and will be removed after 08/2017. Use instead layers from `keras.layers.merge`, e.g. `add`, `concatenate`, etc.\n",
      "  x = merge(list_feat, mode='concat', concat_axis=concat_axis)\n",
      "/usr/local/lib/python2.7/site-packages/keras/legacy/layers.py:458: UserWarning: The `Merge` layer is deprecated and will be removed after 08/2017. Use instead layers from `keras.layers.merge`, e.g. `add`, `concatenate`, etc.\n",
      "  name=name)\n",
      "densenet.py:56: UserWarning: Update your `BatchNormalization` call to the Keras 2 API: `BatchNormalization(gamma_regularizer=<keras.reg..., beta_regularizer=<keras.reg..., axis=1)`\n",
      "  beta_regularizer=l2(weight_decay))(x)\n",
      "densenet.py:62: UserWarning: Update your `Conv2D` call to the Keras 2 API: `Conv2D(18, (1, 1), kernel_initializer=\"he_uniform\", padding=\"same\", kernel_regularizer=<keras.reg..., use_bias=False)`\n",
      "  W_regularizer=l2(weight_decay))(x)\n",
      "densenet.py:186: UserWarning: Update your `BatchNormalization` call to the Keras 2 API: `BatchNormalization(gamma_regularizer=<keras.reg..., beta_regularizer=<keras.reg..., axis=1)`\n",
      "  beta_regularizer=l2(weight_decay))(x)\n",
      "densenet.py:188: UserWarning: Update your `GlobalAveragePooling2D` call to the Keras 2 API: `GlobalAveragePooling2D(data_format=\"channels_last\")`\n",
      "  x = GlobalAveragePooling2D(dim_ordering=\"tf\")(x)\n",
      "densenet.py:193: UserWarning: Update your `Dense` call to the Keras 2 API: `Dense(3, kernel_regularizer=<keras.reg..., activation=\"softmax\", bias_regularizer=<keras.reg...)`\n",
      "  b_regularizer=l2(weight_decay))(x)\n",
      "densenet.py:194: UserWarning: Update your `Model` call to the Keras 2 API: `Model(outputs=[<tf.Tenso..., name=\"DenseNet\", inputs=[<tf.Tenso...)`\n",
      "  densenet = Model(input=[model_input], output=[x], name=\"DenseNet\")\n"
     ]
    }
   ],
   "source": [
    "model = DenseNet(nb_classes = 3, img_dim = (500, 314, 3), depth = 10, \n",
    "                 nb_dense_block = 2, growth_rate = 3, \n",
    "                 dropout_rate= 0.5, nb_filter = 12)"
   ]
  },
  {
   "cell_type": "code",
   "execution_count": 6,
   "metadata": {},
   "outputs": [
    {
     "name": "stdout",
     "output_type": "stream",
     "text": [
      "__________________________________________________________________________________________________\n",
      "Layer (type)                    Output Shape         Param #     Connected to                     \n",
      "==================================================================================================\n",
      "input_1 (InputLayer)            (None, 500, 314, 3)  0                                            \n",
      "__________________________________________________________________________________________________\n",
      "initial_conv2D (Conv2D)         (None, 500, 314, 12) 324         input_1[0][0]                    \n",
      "__________________________________________________________________________________________________\n",
      "batch_normalization_1 (BatchNor (None, 500, 314, 12) 2000        initial_conv2D[0][0]             \n",
      "__________________________________________________________________________________________________\n",
      "activation_1 (Activation)       (None, 500, 314, 12) 0           batch_normalization_1[0][0]      \n",
      "__________________________________________________________________________________________________\n",
      "conv2d_1 (Conv2D)               (None, 500, 314, 3)  324         activation_1[0][0]               \n",
      "__________________________________________________________________________________________________\n",
      "dropout_1 (Dropout)             (None, 500, 314, 3)  0           conv2d_1[0][0]                   \n",
      "__________________________________________________________________________________________________\n",
      "merge_1 (Merge)                 (None, 500, 314, 15) 0           initial_conv2D[0][0]             \n",
      "                                                                 dropout_1[0][0]                  \n",
      "__________________________________________________________________________________________________\n",
      "batch_normalization_2 (BatchNor (None, 500, 314, 15) 2000        merge_1[0][0]                    \n",
      "__________________________________________________________________________________________________\n",
      "activation_2 (Activation)       (None, 500, 314, 15) 0           batch_normalization_2[0][0]      \n",
      "__________________________________________________________________________________________________\n",
      "conv2d_2 (Conv2D)               (None, 500, 314, 3)  405         activation_2[0][0]               \n",
      "__________________________________________________________________________________________________\n",
      "dropout_2 (Dropout)             (None, 500, 314, 3)  0           conv2d_2[0][0]                   \n",
      "__________________________________________________________________________________________________\n",
      "merge_2 (Merge)                 (None, 500, 314, 18) 0           initial_conv2D[0][0]             \n",
      "                                                                 dropout_1[0][0]                  \n",
      "                                                                 dropout_2[0][0]                  \n",
      "__________________________________________________________________________________________________\n",
      "batch_normalization_3 (BatchNor (None, 500, 314, 18) 2000        merge_2[0][0]                    \n",
      "__________________________________________________________________________________________________\n",
      "activation_3 (Activation)       (None, 500, 314, 18) 0           batch_normalization_3[0][0]      \n",
      "__________________________________________________________________________________________________\n",
      "conv2d_3 (Conv2D)               (None, 500, 314, 18) 324         activation_3[0][0]               \n",
      "__________________________________________________________________________________________________\n",
      "dropout_3 (Dropout)             (None, 500, 314, 18) 0           conv2d_3[0][0]                   \n",
      "__________________________________________________________________________________________________\n",
      "average_pooling2d_1 (AveragePoo (None, 250, 157, 18) 0           dropout_3[0][0]                  \n",
      "__________________________________________________________________________________________________\n",
      "batch_normalization_4 (BatchNor (None, 250, 157, 18) 1000        average_pooling2d_1[0][0]        \n",
      "__________________________________________________________________________________________________\n",
      "activation_4 (Activation)       (None, 250, 157, 18) 0           batch_normalization_4[0][0]      \n",
      "__________________________________________________________________________________________________\n",
      "conv2d_4 (Conv2D)               (None, 250, 157, 3)  486         activation_4[0][0]               \n",
      "__________________________________________________________________________________________________\n",
      "dropout_4 (Dropout)             (None, 250, 157, 3)  0           conv2d_4[0][0]                   \n",
      "__________________________________________________________________________________________________\n",
      "merge_3 (Merge)                 (None, 250, 157, 21) 0           average_pooling2d_1[0][0]        \n",
      "                                                                 dropout_4[0][0]                  \n",
      "__________________________________________________________________________________________________\n",
      "batch_normalization_5 (BatchNor (None, 250, 157, 21) 1000        merge_3[0][0]                    \n",
      "__________________________________________________________________________________________________\n",
      "activation_5 (Activation)       (None, 250, 157, 21) 0           batch_normalization_5[0][0]      \n",
      "__________________________________________________________________________________________________\n",
      "conv2d_5 (Conv2D)               (None, 250, 157, 3)  567         activation_5[0][0]               \n",
      "__________________________________________________________________________________________________\n",
      "dropout_5 (Dropout)             (None, 250, 157, 3)  0           conv2d_5[0][0]                   \n",
      "__________________________________________________________________________________________________\n",
      "merge_4 (Merge)                 (None, 250, 157, 24) 0           average_pooling2d_1[0][0]        \n",
      "                                                                 dropout_4[0][0]                  \n",
      "                                                                 dropout_5[0][0]                  \n",
      "__________________________________________________________________________________________________\n",
      "batch_normalization_6 (BatchNor (None, 250, 157, 24) 1000        merge_4[0][0]                    \n",
      "__________________________________________________________________________________________________\n",
      "activation_6 (Activation)       (None, 250, 157, 24) 0           batch_normalization_6[0][0]      \n",
      "__________________________________________________________________________________________________\n",
      "global_average_pooling2d_1 (Glo (None, 24)           0           activation_6[0][0]               \n",
      "__________________________________________________________________________________________________\n",
      "dense_1 (Dense)                 (None, 3)            75          global_average_pooling2d_1[0][0] \n",
      "==================================================================================================\n",
      "Total params: 11,505\n",
      "Trainable params: 7,005\n",
      "Non-trainable params: 4,500\n",
      "__________________________________________________________________________________________________\n"
     ]
    }
   ],
   "source": [
    "model.summary()"
   ]
  },
  {
   "cell_type": "code",
   "execution_count": null,
   "metadata": {},
   "outputs": [],
   "source": []
  }
 ],
 "metadata": {
  "kernelspec": {
   "display_name": "Python 2",
   "language": "python",
   "name": "python2"
  },
  "language_info": {
   "codemirror_mode": {
    "name": "ipython",
    "version": 2
   },
   "file_extension": ".py",
   "mimetype": "text/x-python",
   "name": "python",
   "nbconvert_exporter": "python",
   "pygments_lexer": "ipython2",
   "version": "2.7.14"
  }
 },
 "nbformat": 4,
 "nbformat_minor": 2
}
