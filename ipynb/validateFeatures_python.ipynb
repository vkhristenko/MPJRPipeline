{
 "cells": [
  {
   "cell_type": "markdown",
   "metadata": {},
   "source": [
    "# Validate the features generated with Spark Workflow vs ROOT"
   ]
  },
  {
   "cell_type": "markdown",
   "metadata": {},
   "source": [
    "## Get the features from a parquet generated file"
   ]
  },
  {
   "cell_type": "code",
   "execution_count": 1,
   "metadata": {},
   "outputs": [],
   "source": [
    "import numpy as np\n",
    "np.set_printoptions(precision=5)"
   ]
  },
  {
   "cell_type": "code",
   "execution_count": 2,
   "metadata": {},
   "outputs": [],
   "source": [
    "features = sqlContext.read.format(\"parquet\").load(\"file:/Users/vk/data/ML_MP_JR/ttbar_lepFilter_13TeV/ttbar_features_950.parquet\")"
   ]
  },
  {
   "cell_type": "code",
   "execution_count": 3,
   "metadata": {},
   "outputs": [
    {
     "data": {
      "text/plain": [
       "357"
      ]
     },
     "execution_count": 3,
     "metadata": {},
     "output_type": "execute_result"
    }
   ],
   "source": [
    "features.count()"
   ]
  },
  {
   "cell_type": "code",
   "execution_count": 4,
   "metadata": {},
   "outputs": [
    {
     "name": "stdout",
     "output_type": "stream",
     "text": [
      "+--------------------+--------------------+\n",
      "|           hfeatures|           lfeatures|\n",
      "+--------------------+--------------------+\n",
      "|[373.637100219726...|[WrappedArray(126...|\n",
      "|[200.109180450439...|[WrappedArray(112...|\n",
      "|[267.100757598876...|[WrappedArray(70....|\n",
      "|[235.573299407958...|[WrappedArray(114...|\n",
      "|[268.110122680664...|[WrappedArray(163...|\n",
      "|[154.009853363037...|[WrappedArray(34....|\n",
      "|[43.8011703491210...|[WrappedArray(52....|\n",
      "|[355.839591979980...|[WrappedArray(192...|\n",
      "|[498.655937194824...|[WrappedArray(150...|\n",
      "|[405.600200653076...|[WrappedArray(125...|\n",
      "|[0.0, 22.88990783...|[WrappedArray(28....|\n",
      "|[323.521884918212...|[WrappedArray(182...|\n",
      "|[83.6020126342773...|[WrappedArray(25....|\n",
      "|[215.075908660888...|[WrappedArray(70....|\n",
      "|[333.586856842041...|[WrappedArray(57....|\n",
      "|[153.549125671386...|[WrappedArray(83....|\n",
      "|[522.556297302246...|[WrappedArray(173...|\n",
      "|[226.487812042236...|[WrappedArray(72....|\n",
      "|[0.0, 46.76742172...|[WrappedArray(364...|\n",
      "|[232.679992675781...|[WrappedArray(131...|\n",
      "+--------------------+--------------------+\n",
      "only showing top 20 rows\n",
      "\n"
     ]
    }
   ],
   "source": [
    "features.show()"
   ]
  },
  {
   "cell_type": "code",
   "execution_count": 5,
   "metadata": {},
   "outputs": [
    {
     "name": "stdout",
     "output_type": "stream",
     "text": [
      "(10, 14)\n",
      "(10, 801, 19)\n"
     ]
    }
   ],
   "source": [
    "# \n",
    "# Take the first 10 rows and convert that into numpy array\n",
    "#\n",
    "sample_features = features.take(10)\n",
    "sample_hfeatures = np.asarray([row.hfeatures for row in sample_features])\n",
    "sample_lfeatures = np.asarray([np.asarray(row.lfeatures) for row in sample_features])\n",
    "print sample_hfeatures.shape\n",
    "print sample_lfeatures.shape"
   ]
  },
  {
   "cell_type": "code",
   "execution_count": 6,
   "metadata": {},
   "outputs": [
    {
     "name": "stdout",
     "output_type": "stream",
     "text": [
      "[  3.73637e+02   1.40337e+02   2.67839e+00   4.41126e+04   3.00000e+00\n",
      "   2.00000e+00   1.24368e+02   1.74327e-01  -1.76712e+00   2.24426e-02\n",
      "   0.00000e+00   0.00000e+00   1.00000e+00   1.00000e+00]\n"
     ]
    }
   ],
   "source": [
    "print sample_hfeatures[0, :]"
   ]
  },
  {
   "cell_type": "markdown",
   "metadata": {},
   "source": [
    "## Read the hdf5 file and obtain the pre-generated features"
   ]
  },
  {
   "cell_type": "code",
   "execution_count": 7,
   "metadata": {},
   "outputs": [],
   "source": [
    "import h5py"
   ]
  },
  {
   "cell_type": "code",
   "execution_count": 8,
   "metadata": {},
   "outputs": [],
   "source": [
    "hdf5FileName = \"/Users/vk/data/ML_MP_JR/ttbar_lepFilter_13TeV/ttbar_lepFilter_13TeV_950.h5\"\n",
    "f = h5py.File(hdf5FileName)"
   ]
  },
  {
   "cell_type": "code",
   "execution_count": 9,
   "metadata": {},
   "outputs": [
    {
     "name": "stdout",
     "output_type": "stream",
     "text": [
      "(3616, 801, 19)\n",
      "(3616, 14)\n"
     ]
    }
   ],
   "source": [
    "h5_lfeatures = f[\"Particles\"][..., 1:]\n",
    "h5_hfeatures = f[\"HLF\"][:, 1:]\n",
    "print h5_lfeatures.shape\n",
    "print h5_hfeatures.shape"
   ]
  },
  {
   "cell_type": "markdown",
   "metadata": {},
   "source": [
    "## Compare the arrays directly"
   ]
  },
  {
   "cell_type": "code",
   "execution_count": 14,
   "metadata": {},
   "outputs": [
    {
     "name": "stdout",
     "output_type": "stream",
     "text": [
      "[  1.26262e+02  -2.42595e+01  -1.21979e+02   2.17907e+01   1.24368e+02\n",
      "   1.74327e-01  -1.76712e+00   0.00000e+00   0.00000e+00   0.00000e+00\n",
      "   2.24426e-02   0.00000e+00   0.00000e+00   0.00000e+00   0.00000e+00\n",
      "   0.00000e+00   1.00000e+00   0.00000e+00   1.00000e+00]\n"
     ]
    }
   ],
   "source": [
    "print h5_lfeatures[0, 0, :]"
   ]
  },
  {
   "cell_type": "code",
   "execution_count": 15,
   "metadata": {},
   "outputs": [
    {
     "name": "stdout",
     "output_type": "stream",
     "text": [
      "[  1.26262e+02  -2.42595e+01  -1.21979e+02   2.17907e+01   1.24368e+02\n",
      "   1.74327e-01  -1.76712e+00   0.00000e+00   0.00000e+00   0.00000e+00\n",
      "   2.24426e-02   0.00000e+00   0.00000e+00   0.00000e+00   0.00000e+00\n",
      "   0.00000e+00   1.00000e+00   0.00000e+00   1.00000e+00]\n"
     ]
    }
   ],
   "source": [
    "print sample_lfeatures[0, 0, :]"
   ]
  },
  {
   "cell_type": "code",
   "execution_count": 19,
   "metadata": {},
   "outputs": [
    {
     "name": "stdout",
     "output_type": "stream",
     "text": [
      "[  3.73637e+02   1.40337e+02   2.67839e+00   7.08332e+04   3.00000e+00\n",
      "   2.00000e+00   1.24368e+02   1.74327e-01  -1.76712e+00   2.24426e-02\n",
      "   0.00000e+00   0.00000e+00   1.00000e+00   1.00000e+00]\n"
     ]
    }
   ],
   "source": [
    "print h5_hfeatures[0, :]"
   ]
  },
  {
   "cell_type": "code",
   "execution_count": 18,
   "metadata": {},
   "outputs": [
    {
     "name": "stdout",
     "output_type": "stream",
     "text": [
      "[  3.73637e+02   1.40337e+02   2.67839e+00   4.41126e+04   3.00000e+00\n",
      "   2.00000e+00   1.24368e+02   1.74327e-01  -1.76712e+00   2.24426e-02\n",
      "   0.00000e+00   0.00000e+00   1.00000e+00   1.00000e+00]\n"
     ]
    }
   ],
   "source": [
    "print sample_hfeatures[0, :]"
   ]
  },
  {
   "cell_type": "code",
   "execution_count": null,
   "metadata": {},
   "outputs": [],
   "source": []
  },
  {
   "cell_type": "code",
   "execution_count": null,
   "metadata": {},
   "outputs": [],
   "source": []
  }
 ],
 "metadata": {
  "kernelspec": {
   "display_name": "Python 2",
   "language": "python",
   "name": "python2"
  },
  "language_info": {
   "codemirror_mode": {
    "name": "ipython",
    "version": 2
   },
   "file_extension": ".py",
   "mimetype": "text/x-python",
   "name": "python",
   "nbconvert_exporter": "python",
   "pygments_lexer": "ipython2",
   "version": "2.7.14"
  }
 },
 "nbformat": 4,
 "nbformat_minor": 2
}
