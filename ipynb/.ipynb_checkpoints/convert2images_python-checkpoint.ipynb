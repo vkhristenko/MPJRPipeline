{
 "cells": [
  {
   "cell_type": "markdown",
   "metadata": {},
   "source": [
    "# Image Conversion Pipeline\n",
    "- Taken from `https://github.com/thongonary/LCDJets/blob/master/Transform.py`\n",
    "- For each row, produce an image from a matrix of features "
   ]
  },
  {
   "cell_type": "code",
   "execution_count": 1,
   "metadata": {},
   "outputs": [],
   "source": [
    "features = sqlContext.read.format(\"parquet\").load(\"file:/Users/vk/data/ML_MP_JR/ttbar_lepFilter_13TeV/*.parquet\")"
   ]
  },
  {
   "cell_type": "code",
   "execution_count": 2,
   "metadata": {},
   "outputs": [
    {
     "name": "stdout",
     "output_type": "stream",
     "text": [
      "+--------------------+--------------------+\n",
      "|           hfeatures|           lfeatures|\n",
      "+--------------------+--------------------+\n",
      "|[51.0764198303222...|[WrappedArray(44....|\n",
      "|[469.079421997070...|[WrappedArray(67....|\n",
      "|[222.012012481689...|[WrappedArray(189...|\n",
      "|[84.7050094604492...|[WrappedArray(36....|\n",
      "|[118.823188781738...|[WrappedArray(31....|\n",
      "|[612.161636352539...|[WrappedArray(60....|\n",
      "|[259.445648193359...|[WrappedArray(386...|\n",
      "|[379.874328613281...|[WrappedArray(76....|\n",
      "|[235.096134185791...|[WrappedArray(44....|\n",
      "|[299.053157806396...|[WrappedArray(65....|\n",
      "|[164.111095428466...|[WrappedArray(51....|\n",
      "|[94.1477622985839...|[WrappedArray(121...|\n",
      "|[225.197017669677...|[WrappedArray(43....|\n",
      "|[66.8187332153320...|[WrappedArray(292...|\n",
      "|[179.064170837402...|[WrappedArray(705...|\n",
      "|[134.533317565917...|[WrappedArray(70....|\n",
      "|[746.370513916015...|[WrappedArray(319...|\n",
      "|[892.570121765136...|[WrappedArray(53....|\n",
      "|[473.942733764648...|[WrappedArray(48....|\n",
      "|[192.498855590820...|[WrappedArray(80....|\n",
      "+--------------------+--------------------+\n",
      "only showing top 20 rows\n",
      "\n"
     ]
    }
   ],
   "source": [
    "features.show()"
   ]
  },
  {
   "cell_type": "markdown",
   "metadata": {},
   "source": [
    "## Step1 Build up the functionality\n",
    "- various imports\n",
    "- conversion function"
   ]
  },
  {
   "cell_type": "code",
   "execution_count": 9,
   "metadata": {},
   "outputs": [
    {
     "data": {
      "text/plain": [
       "'1.13.3'"
      ]
     },
     "execution_count": 9,
     "metadata": {},
     "output_type": "execute_result"
    }
   ],
   "source": [
    "import time\n",
    "import numpy as np\n",
    "from pyspark.sql import Row\n",
    "import math\n",
    "from skimage import draw \n",
    "import matplotlib \n",
    "\n",
    "import numpy as np\n",
    "from scipy import misc\n",
    "import time\n",
    "import sys\n",
    "import matplotlib\n",
    "from skimage import draw \n",
    "import os\n",
    "import matplotlib.pyplot as plt\n",
    "import random"
   ]
  },
  {
   "cell_type": "code",
   "execution_count": 8,
   "metadata": {},
   "outputs": [
    {
     "ename": "AttributeError",
     "evalue": "'module' object has no attribute 'to_rgb'",
     "output_type": "error",
     "traceback": [
      "\u001b[0;31m---------------------------------------------------------------------------\u001b[0m",
      "\u001b[0;31mAttributeError\u001b[0m                            Traceback (most recent call last)",
      "\u001b[0;32m<ipython-input-8-72366d031438>\u001b[0m in \u001b[0;36m<module>\u001b[0;34m()\u001b[0m\n\u001b[1;32m     21\u001b[0m \u001b[0;34m\u001b[0m\u001b[0m\n\u001b[1;32m     22\u001b[0m \u001b[0mc_colors\u001b[0m \u001b[0;34m=\u001b[0m \u001b[0;34m[\u001b[0m\u001b[0mcolors\u001b[0m\u001b[0;34m[\u001b[0m\u001b[0mk\u001b[0m\u001b[0;34m]\u001b[0m \u001b[0;32mfor\u001b[0m \u001b[0mk\u001b[0m \u001b[0;32min\u001b[0m \u001b[0mfeatures\u001b[0m\u001b[0;34m[\u001b[0m\u001b[0;36m13\u001b[0m\u001b[0;34m:\u001b[0m\u001b[0;34m]\u001b[0m\u001b[0;34m]\u001b[0m\u001b[0;34m+\u001b[0m\u001b[0;34m[\u001b[0m\u001b[0;34m'black'\u001b[0m\u001b[0;34m]\u001b[0m\u001b[0;34m\u001b[0m\u001b[0m\n\u001b[0;32m---> 23\u001b[0;31m \u001b[0mcc_colors\u001b[0m \u001b[0;34m=\u001b[0m \u001b[0;34m[\u001b[0m\u001b[0mnp\u001b[0m\u001b[0;34m.\u001b[0m\u001b[0masarray\u001b[0m\u001b[0;34m(\u001b[0m\u001b[0mmatplotlib\u001b[0m\u001b[0;34m.\u001b[0m\u001b[0mcolors\u001b[0m\u001b[0;34m.\u001b[0m\u001b[0mto_rgb\u001b[0m\u001b[0;34m(\u001b[0m\u001b[0mk\u001b[0m\u001b[0;34m)\u001b[0m\u001b[0;34m)\u001b[0m \u001b[0;32mfor\u001b[0m \u001b[0mk\u001b[0m \u001b[0;32min\u001b[0m \u001b[0mc_colors\u001b[0m\u001b[0;34m]\u001b[0m\u001b[0;34m\u001b[0m\u001b[0m\n\u001b[0m\u001b[1;32m     24\u001b[0m \u001b[0mcc_shapes\u001b[0m \u001b[0;34m=\u001b[0m \u001b[0;34m[\u001b[0m\u001b[0mshapes\u001b[0m\u001b[0;34m[\u001b[0m\u001b[0mk\u001b[0m\u001b[0;34m]\u001b[0m \u001b[0;32mfor\u001b[0m \u001b[0mk\u001b[0m \u001b[0;32min\u001b[0m \u001b[0mfeatures\u001b[0m\u001b[0;34m[\u001b[0m\u001b[0;36m13\u001b[0m\u001b[0;34m:\u001b[0m\u001b[0;34m]\u001b[0m\u001b[0;34m]\u001b[0m\u001b[0;34m+\u001b[0m\u001b[0;34m[\u001b[0m\u001b[0;36m0\u001b[0m\u001b[0;34m]\u001b[0m\u001b[0;34m\u001b[0m\u001b[0m\n",
      "\u001b[0;31mAttributeError\u001b[0m: 'module' object has no attribute 'to_rgb'"
     ]
    }
   ],
   "source": [
    "features = ['Energy', 'Px', 'Py', 'Pz', 'Pt', 'Eta', 'Phi', \n",
    "                    'vtxX', 'vtxY', 'vtxZ','ChPFIso', 'GammaPFIso', 'NeuPFIso',\n",
    "                    'isChHad', 'isNeuHad', 'isGamma', 'isEle',  'isMu', \n",
    "                        #'Charge'\n",
    "           ]\n",
    "\n",
    "\n",
    "# In[259]:\n",
    "\n",
    "colors = {'isMu' : 'green',\n",
    "        'isEle': 'green',\n",
    "         'isGamma':'blue',\n",
    "         'isChHad' : 'red',\n",
    "         'isNeuHad': 'yellow'}\n",
    "\n",
    "shapes = {'isMu' : 5,\n",
    "          'isEle': 5,\n",
    "          'isGamma':3,\n",
    "          'isChHad' : 4,\n",
    "          'isNeuHad': 0}\n",
    "\n",
    "c_colors = [colors[k] for k in features[13:]]+['black']\n",
    "cc_colors = [np.asarray(matplotlib.colors.to_rgb(k)) for k in c_colors]\n",
    "cc_shapes = [shapes[k] for k in features[13:]]+[0]"
   ]
  },
  {
   "cell_type": "code",
   "execution_count": 16,
   "metadata": {},
   "outputs": [],
   "source": [
    "def create3D(data):\n",
    "    max_eta = 5\n",
    "    max_phi = np.pi\n",
    "    res= 100\n",
    "    neta = int(max_eta*res)\n",
    "    nphi = int(max_phi*res)\n",
    "    eeta = 2.*max_eta / float(neta)\n",
    "    ephi = 2.*max_phi / float(nphi)\n",
    "    def ieta( eta ): return (eta+max_eta) / eeta\n",
    "    def iphi(phi) : return (phi+max_phi) / ephi\n",
    "    blend = 0.3\n",
    "    image = np.ones((neta,nphi,3), dtype = np.float32)\n",
    "    \n",
    "    for ip in range(data.shape[0]):\n",
    "        p_data = data[ip,:]\n",
    "        eta = p_data[0]\n",
    "        phi = p_data[1]\n",
    "        if eta==0 and phi==0: \n",
    "            #print ip\n",
    "            continue\n",
    "        #pT = p_data[2]\n",
    "        #lpT = min(max(np.log(pT)/5.,0.001), 10)*res/2.\n",
    "        lpT = p_data[2]\n",
    "        ptype = int(p_data[3])\n",
    "        c = cc_colors[ ptype ]\n",
    "        s = cc_shapes[ ptype ]\n",
    "        R = lpT * res/1.5\n",
    "        iee = ieta(eta)\n",
    "        ip0 = iphi(phi)\n",
    "        ip1 = iphi(phi+2*np.pi)\n",
    "        ip2 = iphi(phi-2*np.pi)\n",
    "        \n",
    "        if s==0:\n",
    "            xi0,yi0 = draw.circle(  iee, ip0,radius=R, shape=image.shape[:2])\n",
    "            xi1,yi1 = draw.circle( iee, ip1, radius=R, shape=image.shape[:2])\n",
    "            xi2,yi2 = draw.circle( iee, ip2, radius=R, shape=image.shape[:2]) \n",
    "            #if ptype == 5:\n",
    "            #    print \"MET\",eta,phi\n",
    "        else:\n",
    "            nv = s\n",
    "            vx = [iee + R*np.cos(ang) for ang in np.arange(0,2*np.pi, 2*np.pi/nv)]\n",
    "            vy = [ip0 + R*np.sin(ang) for ang in np.arange(0,2*np.pi, 2*np.pi/nv)]\n",
    "            vy1 = [ip1 + R*np.sin(ang) for ang in np.arange(0,2*np.pi, 2*np.pi/nv)]\n",
    "            vy2 = [ip2 + R*np.sin(ang) for ang in np.arange(0,2*np.pi, 2*np.pi/nv)]\n",
    "            xi0,yi0 = draw.polygon( vx, vy , shape=image.shape[:2])\n",
    "            xi1,yi1 = draw.polygon( vx, vy1 , shape=image.shape[:2])\n",
    "            xi2,yi2 = draw.polygon( vx, vy2 , shape=image.shape[:2])\n",
    "            \n",
    "        xi = np.concatenate((xi0,xi1,xi2))\n",
    "        yi = np.concatenate((yi0,yi1,yi2))\n",
    "        image[xi,yi,:] = (image[xi,yi,:] *(1-blend)) + (c*blend)\n",
    "\n",
    "\n",
    "def convert2image(row):\n",
    "    \"\"\"Assume that a row contains a non-empty 2D matrix of features\"\"\"\n",
    "    lmat = np.asarray(row.lfeatures, dtype=np.float64)\n",
    "    hmat = np.asarray(row.hfeatures, dtype=np.float64)\n",
    "    \n",
    "    # low level features\n",
    "    l_reduced = np.asarray(np.zeros((lmat.shape[0], 4)))\n",
    "    l_reduced[:, 0] = lmat[:, 5]\n",
    "    l_reduced[:, 1] = lmat[:, 6]\n",
    "    l_reduced[:, 2] = np.minimum(np.log(np.maximum(lmat[:, 4], 1.001))/5., 10)\n",
    "    l_reduced[:, 3] = np.argmax(lmat[:, 13:], axis=-1)\n",
    "    \n",
    "    # high level features\n",
    "    h_reduced = np.zeros( (1, 4))\n",
    "    h_reduced[0,2] = np.minimum(np.maximum(np.log(hmat[1])/5.,0.001), 10) # MET\n",
    "    h_reduced[0,1] = hmat[2] # MET-phi\n",
    "    h_reduced[0,3] = int(5) ## met type\n",
    "    \n",
    "    reduced = np.concatenate((l_reduced, h_reduced), axis=0)\n",
    "    \n",
    "    return Row(image=reduced.tolist())"
   ]
  },
  {
   "cell_type": "code",
   "execution_count": 17,
   "metadata": {},
   "outputs": [
    {
     "name": "stdout",
     "output_type": "stream",
     "text": [
      "Total Processing Time: 1 seconds\n"
     ]
    }
   ],
   "source": [
    "before = time.time()\n",
    "images = features\\\n",
    "    .rdd\\\n",
    "    .map(convert2image)\\\n",
    "    .toDF()\n",
    "after = time.time()\n",
    "print(\"Total Processing Time: %d seconds\" % int(after - before))"
   ]
  },
  {
   "cell_type": "code",
   "execution_count": 12,
   "metadata": {},
   "outputs": [
    {
     "name": "stdout",
     "output_type": "stream",
     "text": [
      "root\n",
      " |-- image: array (nullable = true)\n",
      " |    |-- element: array (containsNull = true)\n",
      " |    |    |-- element: double (containsNull = true)\n",
      "\n"
     ]
    }
   ],
   "source": [
    "images.printSchema()"
   ]
  },
  {
   "cell_type": "code",
   "execution_count": 13,
   "metadata": {},
   "outputs": [
    {
     "name": "stdout",
     "output_type": "stream",
     "text": [
      "+--------------------+\n",
      "|               image|\n",
      "+--------------------+\n",
      "|[WrappedArray(0.6...|\n",
      "|[WrappedArray(0.2...|\n",
      "|[WrappedArray(1.6...|\n",
      "|[WrappedArray(-0....|\n",
      "|[WrappedArray(-0....|\n",
      "|[WrappedArray(-1....|\n",
      "|[WrappedArray(-1....|\n",
      "|[WrappedArray(1.4...|\n",
      "|[WrappedArray(-0....|\n",
      "|[WrappedArray(1.3...|\n",
      "|[WrappedArray(0.2...|\n",
      "|[WrappedArray(1.8...|\n",
      "|[WrappedArray(-0....|\n",
      "|[WrappedArray(-2....|\n",
      "|[WrappedArray(2.9...|\n",
      "|[WrappedArray(-0....|\n",
      "|[WrappedArray(0.6...|\n",
      "|[WrappedArray(0.8...|\n",
      "|[WrappedArray(0.2...|\n",
      "|[WrappedArray(-0....|\n",
      "+--------------------+\n",
      "only showing top 20 rows\n",
      "\n"
     ]
    }
   ],
   "source": [
    "images.show()"
   ]
  },
  {
   "cell_type": "code",
   "execution_count": null,
   "metadata": {},
   "outputs": [],
   "source": []
  }
 ],
 "metadata": {
  "kernelspec": {
   "display_name": "Python 2",
   "language": "python",
   "name": "python2"
  },
  "language_info": {
   "codemirror_mode": {
    "name": "ipython",
    "version": 2
   },
   "file_extension": ".py",
   "mimetype": "text/x-python",
   "name": "python",
   "nbconvert_exporter": "python",
   "pygments_lexer": "ipython2",
   "version": "2.7.10"
  }
 },
 "nbformat": 4,
 "nbformat_minor": 1
}
