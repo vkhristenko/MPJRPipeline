{
 "cells": [
  {
   "cell_type": "code",
   "execution_count": 1,
   "metadata": {},
   "outputs": [
    {
     "name": "stdout",
     "output_type": "stream",
     "text": [
      "Map(path -> file:/Users/vk/data/ML_MP_JR/ttbar_lepFilter_13TeV/ttbar_lepFilter_13TeV_993.root)\n"
     ]
    },
    {
     "data": {
      "text/plain": [
       "dfold = [Event: array<struct<Event:struct<TObject:null,Number:bigint,ReadTime:float,ProcTime:float>,ProcessID:int,MPI:int,Weight:float,Scale:float,AlphaQED:float,AlphaQCD:float,ID1:int,ID2:int,X1:float,X2:float,ScalePDF:float,PDF1:float,PDF2:float>>, Event_size: int ... 26 more fields]\n"
      ]
     },
     "metadata": {},
     "output_type": "display_data"
    },
    {
     "data": {
      "text/plain": [
       "[Event: array<struct<Event:struct<TObject:null,Number:bigint,ReadTime:float,ProcTime:float>,ProcessID:int,MPI:int,Weight:float,Scale:float,AlphaQED:float,AlphaQCD:float,ID1:int,ID2:int,X1:float,X2:float,ScalePDF:float,PDF1:float,PDF2:float>>, Event_size: int ... 26 more fields]"
      ]
     },
     "execution_count": 1,
     "metadata": {},
     "output_type": "execute_result"
    }
   ],
   "source": [
    "import org.dianahep.sparkroot._\n",
    "val dfold = spark.sqlContext.read.root(\"file:/Users/vk/data/ML_MP_JR/ttbar_lepFilter_13TeV/ttbar_lepFilter_13TeV_993.root\")"
   ]
  },
  {
   "cell_type": "code",
   "execution_count": 2,
   "metadata": {},
   "outputs": [
    {
     "name": "stdout",
     "output_type": "stream",
     "text": [
      "\n",
      "[Lorg.apache.spark.sql.sources.Filter;@32fb0293\n",
      "Time taken: 2729 ms\n"
     ]
    },
    {
     "data": {
      "text/plain": [
       "10000"
      ]
     },
     "execution_count": 2,
     "metadata": {},
     "output_type": "execute_result"
    }
   ],
   "source": [
    "spark.time(dfold.count)"
   ]
  },
  {
   "cell_type": "code",
   "execution_count": 5,
   "metadata": {},
   "outputs": [
    {
     "data": {
      "text/plain": [
       "dfnew = [Event: array<struct<fUniqueID:int,fBits:int,Number:bigint,ReadTime:float,ProcTime:float,ProcessID:int,MPI:int,Weight:float,Scale:float,AlphaQED:float,AlphaQCD:float,ID1:int,ID2:int,X1:float,X2:float,ScalePDF:float,PDF1:float,PDF2:float>>, Event_size: int ... 26 more fields]\n"
      ]
     },
     "metadata": {},
     "output_type": "display_data"
    },
    {
     "data": {
      "text/plain": [
       "[Event: array<struct<fUniqueID:int,fBits:int,Number:bigint,ReadTime:float,ProcTime:float,ProcessID:int,MPI:int,Weight:float,Scale:float,AlphaQED:float,AlphaQCD:float,ID1:int,ID2:int,X1:float,X2:float,ScalePDF:float,PDF1:float,PDF2:float>>, Event_size: int ... 26 more fields]"
      ]
     },
     "execution_count": 5,
     "metadata": {},
     "output_type": "execute_result"
    }
   ],
   "source": [
    "val dfnew = spark.sqlContext.read.format(\"org.dianahep.sparkroot.experimental\").load(\"file:/Users/vk/data/ML_MP_JR/ttbar_lepFilter_13TeV/ttbar_lepFilter_13TeV_993.root\")"
   ]
  },
  {
   "cell_type": "code",
   "execution_count": 6,
   "metadata": {},
   "outputs": [
    {
     "data": {
      "text/plain": [
       "10000"
      ]
     },
     "execution_count": 6,
     "metadata": {},
     "output_type": "execute_result"
    }
   ],
   "source": [
    "dfnew.count"
   ]
  },
  {
   "cell_type": "code",
   "execution_count": null,
   "metadata": {},
   "outputs": [],
   "source": []
  }
 ],
 "metadata": {
  "kernelspec": {
   "display_name": "Apache Toree - Scala",
   "language": "scala",
   "name": "apache_toree_scala"
  },
  "language_info": {
   "codemirror_mode": "text/x-scala",
   "file_extension": ".scala",
   "mimetype": "text/x-scala",
   "name": "scala",
   "pygments_lexer": "scala",
   "version": "2.11.8"
  }
 },
 "nbformat": 4,
 "nbformat_minor": 1
}
