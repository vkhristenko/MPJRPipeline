{
 "cells": [
  {
   "cell_type": "markdown",
   "metadata": {},
   "source": [
    "# Image Conversion Pipeline\n",
    "- Taken from `https://github.com/thongonary/LCDJets/blob/master/Transform.py`\n",
    "- For each row, produce an image from a matrix of features "
   ]
  },
  {
   "cell_type": "code",
   "execution_count": null,
   "metadata": {},
   "outputs": [],
   "source": [
    "features = sqlContext.read.format(\"parquet\").load(\"file:/Users/vk/data/ML_MP_JR/ttbar_lepFilter_13TeV/*.parquet\")"
   ]
  },
  {
   "cell_type": "code",
   "execution_count": 3,
   "metadata": {},
   "outputs": [
    {
     "name": "stdout",
     "output_type": "stream",
     "text": [
      "+--------------------+\n",
      "|            features|\n",
      "+--------------------+\n",
      "|[WrappedArray(44....|\n",
      "|[WrappedArray(67....|\n",
      "|[WrappedArray(189...|\n",
      "|[WrappedArray(36....|\n",
      "|[WrappedArray(31....|\n",
      "|[WrappedArray(60....|\n",
      "|[WrappedArray(386...|\n",
      "|[WrappedArray(76....|\n",
      "|[WrappedArray(44....|\n",
      "|[WrappedArray(65....|\n",
      "|[WrappedArray(51....|\n",
      "|[WrappedArray(121...|\n",
      "|[WrappedArray(43....|\n",
      "|[WrappedArray(292...|\n",
      "|[WrappedArray(705...|\n",
      "|[WrappedArray(70....|\n",
      "|[WrappedArray(319...|\n",
      "|[WrappedArray(53....|\n",
      "|[WrappedArray(48....|\n",
      "|[WrappedArray(80....|\n",
      "+--------------------+\n",
      "only showing top 20 rows\n",
      "\n"
     ]
    }
   ],
   "source": [
    "features.show()"
   ]
  },
  {
   "cell_type": "markdown",
   "metadata": {},
   "source": [
    "## Step1 Build up the functionality\n",
    "- various imports\n",
    "- conversion function"
   ]
  },
  {
   "cell_type": "code",
   "execution_count": 5,
   "metadata": {},
   "outputs": [],
   "source": [
    "import time\n",
    "import numpy as np\n",
    "from pyspark.sql import Row\n",
    "import math"
   ]
  },
  {
   "cell_type": "code",
   "execution_count": 132,
   "metadata": {},
   "outputs": [],
   "source": [
    "def convert2image(row):\n",
    "    \"\"\"Assume that a row contains a non-empty 2D matrix of features\"\"\"\n",
    "    mat = np.asarray(row.features, dtype=np.float64)\n",
    "    reduced = np.asarray(np.zeros((mat.shape[0], 4)))\n",
    "    reduced[:, 0] = mat[:, 5]\n",
    "    reduced[:, 1] = mat[:, 6]\n",
    "    reduced[:, 2] = np.minimum(np.log(np.maximum(mat[:, 4], 1.001))/5., 10)\n",
    "    reduced[:, 3] = np.argmax(mat[:, 13:], axis=-1)\n",
    "    print reduced\n",
    "    \n",
    "    return Row(image=reduced.tolist())"
   ]
  },
  {
   "cell_type": "code",
   "execution_count": 133,
   "metadata": {},
   "outputs": [
    {
     "name": "stdout",
     "output_type": "stream",
     "text": [
      "Total Processing Time: 0 seconds\n"
     ]
    }
   ],
   "source": [
    "before = time.time()\n",
    "images = features\\\n",
    "    .rdd\\\n",
    "    .map(convert2image)\\\n",
    "    .toDF()\n",
    "after = time.time()\n",
    "print(\"Total Processing Time: %d seconds\" % int(after - before))"
   ]
  },
  {
   "cell_type": "code",
   "execution_count": 130,
   "metadata": {},
   "outputs": [
    {
     "name": "stdout",
     "output_type": "stream",
     "text": [
      "root\n",
      " |-- image: array (nullable = true)\n",
      " |    |-- element: array (containsNull = true)\n",
      " |    |    |-- element: double (containsNull = true)\n",
      "\n"
     ]
    }
   ],
   "source": [
    "images.printSchema()"
   ]
  },
  {
   "cell_type": "code",
   "execution_count": 131,
   "metadata": {},
   "outputs": [
    {
     "name": "stdout",
     "output_type": "stream",
     "text": [
      "+--------------------+\n",
      "|               image|\n",
      "+--------------------+\n",
      "|[WrappedArray(0.6...|\n",
      "|[WrappedArray(0.2...|\n",
      "|[WrappedArray(1.6...|\n",
      "|[WrappedArray(-0....|\n",
      "|[WrappedArray(-0....|\n",
      "|[WrappedArray(-1....|\n",
      "|[WrappedArray(-1....|\n",
      "|[WrappedArray(1.4...|\n",
      "|[WrappedArray(-0....|\n",
      "|[WrappedArray(1.3...|\n",
      "|[WrappedArray(0.2...|\n",
      "|[WrappedArray(1.8...|\n",
      "|[WrappedArray(-0....|\n",
      "|[WrappedArray(-2....|\n",
      "|[WrappedArray(2.9...|\n",
      "|[WrappedArray(-0....|\n",
      "|[WrappedArray(0.6...|\n",
      "|[WrappedArray(0.8...|\n",
      "|[WrappedArray(0.2...|\n",
      "|[WrappedArray(-0....|\n",
      "+--------------------+\n",
      "only showing top 20 rows\n",
      "\n"
     ]
    }
   ],
   "source": [
    "images.show()"
   ]
  },
  {
   "cell_type": "code",
   "execution_count": null,
   "metadata": {},
   "outputs": [],
   "source": []
  }
 ],
 "metadata": {
  "kernelspec": {
   "display_name": "Python 2",
   "language": "python",
   "name": "python2"
  },
  "language_info": {
   "codemirror_mode": {
    "name": "ipython",
    "version": 2
   },
   "file_extension": ".py",
   "mimetype": "text/x-python",
   "name": "python",
   "nbconvert_exporter": "python",
   "pygments_lexer": "ipython2",
   "version": "2.7.10"
  }
 },
 "nbformat": 4,
 "nbformat_minor": 1
}
